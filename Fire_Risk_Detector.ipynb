{
 "cells": [
  {
   "cell_type": "code",
   "execution_count": 1,
   "metadata": {},
   "outputs": [],
   "source": [
    "import pandas as pd\n",
    "import numpy as np\n",
    "from   pandas import Series, DataFrame\n",
    "from   sklearn.metrics import classification_report\n",
    "from   sklearn.linear_model import Perceptron\n",
    "from   sklearn.model_selection import train_test_split\n",
    "import sklearn.metrics\n",
    "from   sklearn import preprocessing\n",
    "import matplotlib.pyplot as plt\n",
    "from   sklearn.metrics import roc_curve\n",
    "from   sklearn.metrics import roc_auc_score\n",
    "from sklearn.neural_network import MLPClassifier\n",
    "from sklearn.metrics import confusion_matrix\n",
    "from sklearn.metrics import accuracy_score\n",
    "import pickle"
   ]
  },
  {
   "cell_type": "code",
   "execution_count": 2,
   "metadata": {},
   "outputs": [],
   "source": [
    "data = pd.read_excel(\"C:/Users/rafi/Python/kepadatan_penduduk_lengkap_2018.xlsx\")"
   ]
  },
  {
   "cell_type": "code",
   "execution_count": 3,
   "metadata": {},
   "outputs": [],
   "source": [
    "le = preprocessing.LabelEncoder()"
   ]
  },
  {
   "cell_type": "code",
   "execution_count": 4,
   "metadata": {},
   "outputs": [],
   "source": [
    "data[\"status\"]=le.fit_transform(data[\"status\"])\n",
    "data[\"guna_lahan\"]=le.fit_transform(data[\"guna_lahan\"])\n",
    "data[\"sumber_air\"]=le.fit_transform(data[\"sumber_air\"])\n",
    "data[\"klasifikasi\"]=le.fit_transform(data[\"klasifikasi\"])"
   ]
  },
  {
   "cell_type": "code",
   "execution_count": 5,
   "metadata": {},
   "outputs": [],
   "source": [
    "X = data[['status','guna_lahan','sumber_air']] \n",
    "y = data.klasifikasi"
   ]
  },
  {
   "cell_type": "code",
   "execution_count": 6,
   "metadata": {},
   "outputs": [],
   "source": [
    "X_train, X_test, y_train, y_test = train_test_split(X, y, test_size=0.25, random_state=42)"
   ]
  },
  {
   "cell_type": "code",
   "execution_count": 7,
   "metadata": {},
   "outputs": [
    {
     "data": {
      "text/plain": [
       "MLPClassifier(activation='relu', alpha=1e-05, batch_size='auto', beta_1=0.9,\n",
       "              beta_2=0.999, early_stopping=False, epsilon=1e-08,\n",
       "              hidden_layer_sizes=(200, 200, 200), learning_rate='constant',\n",
       "              learning_rate_init=0.001, max_iter=1000, momentum=0.9,\n",
       "              n_iter_no_change=10, nesterovs_momentum=True, power_t=0.5,\n",
       "              random_state=42, shuffle=True, solver='adam', tol=0.0001,\n",
       "              validation_fraction=0.1, verbose=False, warm_start=False)"
      ]
     },
     "execution_count": 7,
     "metadata": {},
     "output_type": "execute_result"
    }
   ],
   "source": [
    "clf = MLPClassifier(solver='adam', alpha=1e-5,hidden_layer_sizes=(200,200,200), random_state=42,max_iter=1000)\n",
    "clf.fit(X_train, y_train)           "
   ]
  },
  {
   "cell_type": "code",
   "execution_count": 8,
   "metadata": {},
   "outputs": [],
   "source": [
    "predictions = clf.predict(X_test)"
   ]
  },
  {
   "cell_type": "code",
   "execution_count": 9,
   "metadata": {},
   "outputs": [
    {
     "name": "stdout",
     "output_type": "stream",
     "text": [
      "[[32  5]\n",
      " [ 3 27]]\n"
     ]
    }
   ],
   "source": [
    "confusion_array = sklearn.metrics.confusion_matrix(y_test,predictions)\n",
    "print(confusion_array)"
   ]
  },
  {
   "cell_type": "code",
   "execution_count": 10,
   "metadata": {},
   "outputs": [
    {
     "name": "stdout",
     "output_type": "stream",
     "text": [
      "TN =  32\n",
      "FN =  3\n",
      "TP =  27\n",
      "FP =  5\n"
     ]
    }
   ],
   "source": [
    "print('TN = ', confusion_array[0,0] ) # True Negative\n",
    "print('FN = ', confusion_array[1,0] ) # False Negative\n",
    "print('TP = ', confusion_array[1,1] ) # True Positive\n",
    "print('FP = ', confusion_array[0,1] ) # False Positive"
   ]
  },
  {
   "cell_type": "code",
   "execution_count": 11,
   "metadata": {},
   "outputs": [
    {
     "name": "stdout",
     "output_type": "stream",
     "text": [
      "              precision    recall  f1-score   support\n",
      "\n",
      "           0       0.91      0.86      0.89        37\n",
      "           1       0.84      0.90      0.87        30\n",
      "\n",
      "    accuracy                           0.88        67\n",
      "   macro avg       0.88      0.88      0.88        67\n",
      "weighted avg       0.88      0.88      0.88        67\n",
      "\n"
     ]
    }
   ],
   "source": [
    "print(classification_report(y_test,predictions))"
   ]
  },
  {
   "cell_type": "code",
   "execution_count": 12,
   "metadata": {},
   "outputs": [
    {
     "data": {
      "text/plain": [
       "0.8805970149253731"
      ]
     },
     "execution_count": 12,
     "metadata": {},
     "output_type": "execute_result"
    }
   ],
   "source": [
    "accuracy_score(y_test,predictions, normalize = True)"
   ]
  },
  {
   "cell_type": "code",
   "execution_count": 13,
   "metadata": {},
   "outputs": [],
   "source": [
    "def plot_roc_curve(fpr, tpr):\n",
    "    plt.plot(fpr, tpr, color='orange', label='ROC')\n",
    "    plt.plot([0, 1], [0, 1], color='darkblue', linestyle='--')\n",
    "    plt.xlabel('False Positive Rate')\n",
    "    plt.ylabel('True Positive Rate')\n",
    "    plt.title('Receiver Operating Characteristic (ROC) Curve')\n",
    "    plt.legend()\n",
    "    plt.show()"
   ]
  },
  {
   "cell_type": "code",
   "execution_count": 14,
   "metadata": {},
   "outputs": [
    {
     "name": "stdout",
     "output_type": "stream",
     "text": [
      "AUC: 0.88\n"
     ]
    }
   ],
   "source": [
    "auc = roc_auc_score(y_test, predictions)\n",
    "print('AUC: %.2f' % auc)"
   ]
  },
  {
   "cell_type": "code",
   "execution_count": 15,
   "metadata": {},
   "outputs": [],
   "source": [
    "fpr, tpr, thresholds = roc_curve(y_test, predictions)"
   ]
  },
  {
   "cell_type": "code",
   "execution_count": 16,
   "metadata": {},
   "outputs": [
    {
     "data": {
      "image/png": "[encoded data removed]",
      "text/plain": [
       "<Figure size 432x288 with 1 Axes>"
      ]
     },
     "metadata": {
      "needs_background": "light"
     },
     "output_type": "display_data"
    }
   ],
   "source": [
    "plot_roc_curve(fpr, tpr)"
   ]
  },
  {
   "cell_type": "code",
   "execution_count": 17,
   "metadata": {},
   "outputs": [],
   "source": [
    "pickle.dump(clf, open('kebakaran.pkl','wb'))"
   ]
  },
  {
   "cell_type": "code",
   "execution_count": 18,
   "metadata": {},
   "outputs": [
    {
     "data": {
      "text/html": [
       "<div>\n",
       "<style scoped>\n",
       "    .dataframe tbody tr th:only-of-type {\n",
       "        vertical-align: middle;\n",
       "    }\n",
       "\n",
       "    .dataframe tbody tr th {\n",
       "        vertical-align: top;\n",
       "    }\n",
       "\n",
       "    .dataframe thead th {\n",
       "        text-align: right;\n",
       "    }\n",
       "</style>\n",
       "<table border=\"1\" class=\"dataframe\">\n",
       "  <thead>\n",
       "    <tr style=\"text-align: right;\">\n",
       "      <th></th>\n",
       "      <th>tahun</th>\n",
       "      <th>nama_provinsi</th>\n",
       "      <th>nama_kabupaten_kota</th>\n",
       "      <th>nama_kecamatan</th>\n",
       "      <th>nama_kelurahan</th>\n",
       "      <th>jumlah_luas_wilayah_(km2)</th>\n",
       "      <th>jumlah_kepadatan_(jiwa/km2)</th>\n",
       "      <th>status</th>\n",
       "      <th>guna_lahan</th>\n",
       "      <th>sumber_air</th>\n",
       "      <th>klasifikasi</th>\n",
       "    </tr>\n",
       "  </thead>\n",
       "  <tbody>\n",
       "    <tr>\n",
       "      <td>0</td>\n",
       "      <td>2017</td>\n",
       "      <td>PROVINSI DKI JAKARTA</td>\n",
       "      <td>KAB.ADM.KEP.SERIBU</td>\n",
       "      <td>KEP. SERIBU UTR</td>\n",
       "      <td>P. PANGGANG</td>\n",
       "      <td>0.62</td>\n",
       "      <td>10858.0</td>\n",
       "      <td>1</td>\n",
       "      <td>5</td>\n",
       "      <td>2</td>\n",
       "      <td>1</td>\n",
       "    </tr>\n",
       "    <tr>\n",
       "      <td>1</td>\n",
       "      <td>2017</td>\n",
       "      <td>PROVINSI DKI JAKARTA</td>\n",
       "      <td>KAB.ADM.KEP.SERIBU</td>\n",
       "      <td>KEP. SERIBU UTR</td>\n",
       "      <td>P. KELAPA</td>\n",
       "      <td>2.58</td>\n",
       "      <td>2713.0</td>\n",
       "      <td>1</td>\n",
       "      <td>0</td>\n",
       "      <td>2</td>\n",
       "      <td>1</td>\n",
       "    </tr>\n",
       "    <tr>\n",
       "      <td>2</td>\n",
       "      <td>2017</td>\n",
       "      <td>PROVINSI DKI JAKARTA</td>\n",
       "      <td>KAB.ADM.KEP.SERIBU</td>\n",
       "      <td>KEP. SERIBU UTR</td>\n",
       "      <td>P. HARAPAN</td>\n",
       "      <td>2.45</td>\n",
       "      <td>1019.0</td>\n",
       "      <td>1</td>\n",
       "      <td>5</td>\n",
       "      <td>2</td>\n",
       "      <td>1</td>\n",
       "    </tr>\n",
       "    <tr>\n",
       "      <td>3</td>\n",
       "      <td>2017</td>\n",
       "      <td>PROVINSI DKI JAKARTA</td>\n",
       "      <td>KAB.ADM.KEP.SERIBU</td>\n",
       "      <td>KEP. SERIBU SLT</td>\n",
       "      <td>P. UNTUNG JAWA</td>\n",
       "      <td>1.03</td>\n",
       "      <td>2303.0</td>\n",
       "      <td>1</td>\n",
       "      <td>0</td>\n",
       "      <td>2</td>\n",
       "      <td>1</td>\n",
       "    </tr>\n",
       "    <tr>\n",
       "      <td>4</td>\n",
       "      <td>2017</td>\n",
       "      <td>PROVINSI DKI JAKARTA</td>\n",
       "      <td>KAB.ADM.KEP.SERIBU</td>\n",
       "      <td>KEP. SERIBU SLT</td>\n",
       "      <td>P. TIDUNG</td>\n",
       "      <td>1.07</td>\n",
       "      <td>5262.0</td>\n",
       "      <td>1</td>\n",
       "      <td>5</td>\n",
       "      <td>2</td>\n",
       "      <td>1</td>\n",
       "    </tr>\n",
       "    <tr>\n",
       "      <td>...</td>\n",
       "      <td>...</td>\n",
       "      <td>...</td>\n",
       "      <td>...</td>\n",
       "      <td>...</td>\n",
       "      <td>...</td>\n",
       "      <td>...</td>\n",
       "      <td>...</td>\n",
       "      <td>...</td>\n",
       "      <td>...</td>\n",
       "      <td>...</td>\n",
       "      <td>...</td>\n",
       "    </tr>\n",
       "    <tr>\n",
       "      <td>262</td>\n",
       "      <td>2017</td>\n",
       "      <td>PROVINSI DKI JAKARTA</td>\n",
       "      <td>JAKARTA TIMUR</td>\n",
       "      <td>CIPAYUNG</td>\n",
       "      <td>MUNJUL</td>\n",
       "      <td>1.90</td>\n",
       "      <td>13776.0</td>\n",
       "      <td>1</td>\n",
       "      <td>15</td>\n",
       "      <td>4</td>\n",
       "      <td>0</td>\n",
       "    </tr>\n",
       "    <tr>\n",
       "      <td>263</td>\n",
       "      <td>2017</td>\n",
       "      <td>PROVINSI DKI JAKARTA</td>\n",
       "      <td>JAKARTA TIMUR</td>\n",
       "      <td>CIPAYUNG</td>\n",
       "      <td>SETU</td>\n",
       "      <td>3.25</td>\n",
       "      <td>6725.0</td>\n",
       "      <td>1</td>\n",
       "      <td>15</td>\n",
       "      <td>4</td>\n",
       "      <td>0</td>\n",
       "    </tr>\n",
       "    <tr>\n",
       "      <td>264</td>\n",
       "      <td>2017</td>\n",
       "      <td>PROVINSI DKI JAKARTA</td>\n",
       "      <td>JAKARTA TIMUR</td>\n",
       "      <td>CIPAYUNG</td>\n",
       "      <td>BAMBU APUS</td>\n",
       "      <td>3.17</td>\n",
       "      <td>9147.0</td>\n",
       "      <td>1</td>\n",
       "      <td>15</td>\n",
       "      <td>4</td>\n",
       "      <td>0</td>\n",
       "    </tr>\n",
       "    <tr>\n",
       "      <td>265</td>\n",
       "      <td>2017</td>\n",
       "      <td>PROVINSI DKI JAKARTA</td>\n",
       "      <td>JAKARTA TIMUR</td>\n",
       "      <td>CIPAYUNG</td>\n",
       "      <td>LUBANG BUAYA</td>\n",
       "      <td>3.72</td>\n",
       "      <td>19177.0</td>\n",
       "      <td>1</td>\n",
       "      <td>15</td>\n",
       "      <td>4</td>\n",
       "      <td>0</td>\n",
       "    </tr>\n",
       "    <tr>\n",
       "      <td>266</td>\n",
       "      <td>2017</td>\n",
       "      <td>PROVINSI DKI JAKARTA</td>\n",
       "      <td>JAKARTA TIMUR</td>\n",
       "      <td>CIPAYUNG</td>\n",
       "      <td>CEGER</td>\n",
       "      <td>3.63</td>\n",
       "      <td>5848.0</td>\n",
       "      <td>1</td>\n",
       "      <td>11</td>\n",
       "      <td>4</td>\n",
       "      <td>0</td>\n",
       "    </tr>\n",
       "  </tbody>\n",
       "</table>\n",
       "<p>267 rows × 11 columns</p>\n",
       "</div>"
      ],
      "text/plain": [
       "     tahun         nama_provinsi nama_kabupaten_kota   nama_kecamatan  \\\n",
       "0     2017  PROVINSI DKI JAKARTA  KAB.ADM.KEP.SERIBU  KEP. SERIBU UTR   \n",
       "1     2017  PROVINSI DKI JAKARTA  KAB.ADM.KEP.SERIBU  KEP. SERIBU UTR   \n",
       "2     2017  PROVINSI DKI JAKARTA  KAB.ADM.KEP.SERIBU  KEP. SERIBU UTR   \n",
       "3     2017  PROVINSI DKI JAKARTA  KAB.ADM.KEP.SERIBU  KEP. SERIBU SLT   \n",
       "4     2017  PROVINSI DKI JAKARTA  KAB.ADM.KEP.SERIBU  KEP. SERIBU SLT   \n",
       "..     ...                   ...                 ...              ...   \n",
       "262   2017  PROVINSI DKI JAKARTA       JAKARTA TIMUR         CIPAYUNG   \n",
       "263   2017  PROVINSI DKI JAKARTA       JAKARTA TIMUR         CIPAYUNG   \n",
       "264   2017  PROVINSI DKI JAKARTA       JAKARTA TIMUR         CIPAYUNG   \n",
       "265   2017  PROVINSI DKI JAKARTA       JAKARTA TIMUR         CIPAYUNG   \n",
       "266   2017  PROVINSI DKI JAKARTA       JAKARTA TIMUR         CIPAYUNG   \n",
       "\n",
       "     nama_kelurahan  jumlah_luas_wilayah_(km2)  jumlah_kepadatan_(jiwa/km2)  \\\n",
       "0       P. PANGGANG                       0.62                      10858.0   \n",
       "1         P. KELAPA                       2.58                       2713.0   \n",
       "2        P. HARAPAN                       2.45                       1019.0   \n",
       "3    P. UNTUNG JAWA                       1.03                       2303.0   \n",
       "4         P. TIDUNG                       1.07                       5262.0   \n",
       "..              ...                        ...                          ...   \n",
       "262          MUNJUL                       1.90                      13776.0   \n",
       "263            SETU                       3.25                       6725.0   \n",
       "264      BAMBU APUS                       3.17                       9147.0   \n",
       "265    LUBANG BUAYA                       3.72                      19177.0   \n",
       "266           CEGER                       3.63                       5848.0   \n",
       "\n",
       "     status  guna_lahan  sumber_air  klasifikasi  \n",
       "0         1           5           2            1  \n",
       "1         1           0           2            1  \n",
       "2         1           5           2            1  \n",
       "3         1           0           2            1  \n",
       "4         1           5           2            1  \n",
       "..      ...         ...         ...          ...  \n",
       "262       1          15           4            0  \n",
       "263       1          15           4            0  \n",
       "264       1          15           4            0  \n",
       "265       1          15           4            0  \n",
       "266       1          11           4            0  \n",
       "\n",
       "[267 rows x 11 columns]"
      ]
     },
     "execution_count": 18,
     "metadata": {},
     "output_type": "execute_result"
    }
   ],
   "source": [
    "data"
   ]
  },
  {
   "cell_type": "code",
   "execution_count": 19,
   "metadata": {},
   "outputs": [
    {
     "data": {
      "text/html": [
       "<div>\n",
       "<style scoped>\n",
       "    .dataframe tbody tr th:only-of-type {\n",
       "        vertical-align: middle;\n",
       "    }\n",
       "\n",
       "    .dataframe tbody tr th {\n",
       "        vertical-align: top;\n",
       "    }\n",
       "\n",
       "    .dataframe thead th {\n",
       "        text-align: right;\n",
       "    }\n",
       "</style>\n",
       "<table border=\"1\" class=\"dataframe\">\n",
       "  <thead>\n",
       "    <tr style=\"text-align: right;\">\n",
       "      <th></th>\n",
       "      <th>tahun</th>\n",
       "      <th>nama_provinsi</th>\n",
       "      <th>nama_kabupaten_kota</th>\n",
       "      <th>nama_kecamatan</th>\n",
       "      <th>nama_kelurahan</th>\n",
       "      <th>jumlah_luas_wilayah_(km2)</th>\n",
       "      <th>jumlah_kepadatan_(jiwa/km2)</th>\n",
       "      <th>status</th>\n",
       "      <th>guna_lahan</th>\n",
       "      <th>sumber_air</th>\n",
       "      <th>klasifikasi</th>\n",
       "    </tr>\n",
       "  </thead>\n",
       "  <tbody>\n",
       "    <tr>\n",
       "      <td>140</td>\n",
       "      <td>2017</td>\n",
       "      <td>PROVINSI DKI JAKARTA</td>\n",
       "      <td>JAKARTA SELATAN</td>\n",
       "      <td>TEBET</td>\n",
       "      <td>KEBON BARU</td>\n",
       "      <td>1.29</td>\n",
       "      <td>32351.0</td>\n",
       "      <td>1</td>\n",
       "      <td>17</td>\n",
       "      <td>4</td>\n",
       "      <td>0</td>\n",
       "    </tr>\n",
       "    <tr>\n",
       "      <td>141</td>\n",
       "      <td>2017</td>\n",
       "      <td>PROVINSI DKI JAKARTA</td>\n",
       "      <td>JAKARTA SELATAN</td>\n",
       "      <td>TEBET</td>\n",
       "      <td>BUKIT DURI</td>\n",
       "      <td>1.07</td>\n",
       "      <td>38780.0</td>\n",
       "      <td>1</td>\n",
       "      <td>17</td>\n",
       "      <td>4</td>\n",
       "      <td>0</td>\n",
       "    </tr>\n",
       "    <tr>\n",
       "      <td>142</td>\n",
       "      <td>2017</td>\n",
       "      <td>PROVINSI DKI JAKARTA</td>\n",
       "      <td>JAKARTA SELATAN</td>\n",
       "      <td>TEBET</td>\n",
       "      <td>MANGGARAI SELATAN</td>\n",
       "      <td>0.51</td>\n",
       "      <td>52980.0</td>\n",
       "      <td>1</td>\n",
       "      <td>17</td>\n",
       "      <td>4</td>\n",
       "      <td>0</td>\n",
       "    </tr>\n",
       "    <tr>\n",
       "      <td>143</td>\n",
       "      <td>2017</td>\n",
       "      <td>PROVINSI DKI JAKARTA</td>\n",
       "      <td>JAKARTA SELATAN</td>\n",
       "      <td>TEBET</td>\n",
       "      <td>MANGGARAI</td>\n",
       "      <td>0.95</td>\n",
       "      <td>35884.0</td>\n",
       "      <td>1</td>\n",
       "      <td>18</td>\n",
       "      <td>2</td>\n",
       "      <td>0</td>\n",
       "    </tr>\n",
       "    <tr>\n",
       "      <td>144</td>\n",
       "      <td>2017</td>\n",
       "      <td>PROVINSI DKI JAKARTA</td>\n",
       "      <td>JAKARTA SELATAN</td>\n",
       "      <td>SETIA BUDI</td>\n",
       "      <td>SETIA BUDI</td>\n",
       "      <td>0.74</td>\n",
       "      <td>4812.0</td>\n",
       "      <td>1</td>\n",
       "      <td>21</td>\n",
       "      <td>4</td>\n",
       "      <td>1</td>\n",
       "    </tr>\n",
       "    <tr>\n",
       "      <td>145</td>\n",
       "      <td>2017</td>\n",
       "      <td>PROVINSI DKI JAKARTA</td>\n",
       "      <td>JAKARTA SELATAN</td>\n",
       "      <td>SETIA BUDI</td>\n",
       "      <td>KARET SEMANGGI</td>\n",
       "      <td>0.90</td>\n",
       "      <td>3383.0</td>\n",
       "      <td>1</td>\n",
       "      <td>18</td>\n",
       "      <td>4</td>\n",
       "      <td>0</td>\n",
       "    </tr>\n",
       "    <tr>\n",
       "      <td>146</td>\n",
       "      <td>2017</td>\n",
       "      <td>PROVINSI DKI JAKARTA</td>\n",
       "      <td>JAKARTA SELATAN</td>\n",
       "      <td>SETIA BUDI</td>\n",
       "      <td>KARET KUNINGAN</td>\n",
       "      <td>1.79</td>\n",
       "      <td>10469.0</td>\n",
       "      <td>1</td>\n",
       "      <td>13</td>\n",
       "      <td>4</td>\n",
       "      <td>1</td>\n",
       "    </tr>\n",
       "    <tr>\n",
       "      <td>147</td>\n",
       "      <td>2017</td>\n",
       "      <td>PROVINSI DKI JAKARTA</td>\n",
       "      <td>JAKARTA SELATAN</td>\n",
       "      <td>SETIA BUDI</td>\n",
       "      <td>KARET</td>\n",
       "      <td>0.94</td>\n",
       "      <td>12349.0</td>\n",
       "      <td>1</td>\n",
       "      <td>10</td>\n",
       "      <td>4</td>\n",
       "      <td>1</td>\n",
       "    </tr>\n",
       "    <tr>\n",
       "      <td>148</td>\n",
       "      <td>2017</td>\n",
       "      <td>PROVINSI DKI JAKARTA</td>\n",
       "      <td>JAKARTA SELATAN</td>\n",
       "      <td>SETIA BUDI</td>\n",
       "      <td>MENTENG ATAS</td>\n",
       "      <td>0.90</td>\n",
       "      <td>36179.0</td>\n",
       "      <td>1</td>\n",
       "      <td>17</td>\n",
       "      <td>4</td>\n",
       "      <td>0</td>\n",
       "    </tr>\n",
       "    <tr>\n",
       "      <td>149</td>\n",
       "      <td>2017</td>\n",
       "      <td>PROVINSI DKI JAKARTA</td>\n",
       "      <td>JAKARTA SELATAN</td>\n",
       "      <td>SETIA BUDI</td>\n",
       "      <td>PASAR MANGGIS</td>\n",
       "      <td>0.78</td>\n",
       "      <td>40727.0</td>\n",
       "      <td>1</td>\n",
       "      <td>17</td>\n",
       "      <td>4</td>\n",
       "      <td>0</td>\n",
       "    </tr>\n",
       "  </tbody>\n",
       "</table>\n",
       "</div>"
      ],
      "text/plain": [
       "     tahun         nama_provinsi nama_kabupaten_kota nama_kecamatan  \\\n",
       "140   2017  PROVINSI DKI JAKARTA     JAKARTA SELATAN          TEBET   \n",
       "141   2017  PROVINSI DKI JAKARTA     JAKARTA SELATAN          TEBET   \n",
       "142   2017  PROVINSI DKI JAKARTA     JAKARTA SELATAN          TEBET   \n",
       "143   2017  PROVINSI DKI JAKARTA     JAKARTA SELATAN          TEBET   \n",
       "144   2017  PROVINSI DKI JAKARTA     JAKARTA SELATAN     SETIA BUDI   \n",
       "145   2017  PROVINSI DKI JAKARTA     JAKARTA SELATAN     SETIA BUDI   \n",
       "146   2017  PROVINSI DKI JAKARTA     JAKARTA SELATAN     SETIA BUDI   \n",
       "147   2017  PROVINSI DKI JAKARTA     JAKARTA SELATAN     SETIA BUDI   \n",
       "148   2017  PROVINSI DKI JAKARTA     JAKARTA SELATAN     SETIA BUDI   \n",
       "149   2017  PROVINSI DKI JAKARTA     JAKARTA SELATAN     SETIA BUDI   \n",
       "\n",
       "        nama_kelurahan  jumlah_luas_wilayah_(km2)  \\\n",
       "140         KEBON BARU                       1.29   \n",
       "141         BUKIT DURI                       1.07   \n",
       "142  MANGGARAI SELATAN                       0.51   \n",
       "143          MANGGARAI                       0.95   \n",
       "144         SETIA BUDI                       0.74   \n",
       "145     KARET SEMANGGI                       0.90   \n",
       "146     KARET KUNINGAN                       1.79   \n",
       "147              KARET                       0.94   \n",
       "148       MENTENG ATAS                       0.90   \n",
       "149      PASAR MANGGIS                       0.78   \n",
       "\n",
       "     jumlah_kepadatan_(jiwa/km2)  status  guna_lahan  sumber_air  klasifikasi  \n",
       "140                      32351.0       1          17           4            0  \n",
       "141                      38780.0       1          17           4            0  \n",
       "142                      52980.0       1          17           4            0  \n",
       "143                      35884.0       1          18           2            0  \n",
       "144                       4812.0       1          21           4            1  \n",
       "145                       3383.0       1          18           4            0  \n",
       "146                      10469.0       1          13           4            1  \n",
       "147                      12349.0       1          10           4            1  \n",
       "148                      36179.0       1          17           4            0  \n",
       "149                      40727.0       1          17           4            0  "
      ]
     },
     "execution_count": 19,
     "metadata": {},
     "output_type": "execute_result"
    }
   ],
   "source": [
    "data [140:150]"
   ]
  },
  {
   "cell_type": "code",
   "execution_count": 20,
   "metadata": {},
   "outputs": [
    {
     "name": "stdout",
     "output_type": "stream",
     "text": [
      "84     1\n",
      "46     0\n",
      "183    0\n",
      "236    0\n",
      "177    0\n",
      "      ..\n",
      "67     1\n",
      "77     1\n",
      "18     0\n",
      "196    0\n",
      "242    1\n",
      "Name: klasifikasi, Length: 67, dtype: int32\n"
     ]
    }
   ],
   "source": [
    "print (y_test)"
   ]
  },
  {
   "cell_type": "code",
   "execution_count": 21,
   "metadata": {},
   "outputs": [
    {
     "name": "stdout",
     "output_type": "stream",
     "text": [
      "68     0\n",
      "217    1\n",
      "159    0\n",
      "55     1\n",
      "186    1\n",
      "      ..\n",
      "20     1\n",
      "188    1\n",
      "71     0\n",
      "106    0\n",
      "102    1\n",
      "Name: klasifikasi, Length: 200, dtype: int32\n"
     ]
    }
   ],
   "source": [
    "print (y_train)"
   ]
  },
  {
   "cell_type": "code",
   "execution_count": null,
   "metadata": {},
   "outputs": [],
   "source": []
  }
 ],
 "metadata": {
  "kernelspec": {
   "display_name": "Python 3",
   "language": "python",
   "name": "python3"
  },
  "language_info": {
   "codemirror_mode": {
    "name": "ipython",
    "version": 3
   },
   "file_extension": ".py",
   "mimetype": "text/x-python",
   "name": "python",
   "nbconvert_exporter": "python",
   "pygments_lexer": "ipython3",
   "version": "3.8.3"
  }
 },
 "nbformat": 4,
 "nbformat_minor": 2
}
